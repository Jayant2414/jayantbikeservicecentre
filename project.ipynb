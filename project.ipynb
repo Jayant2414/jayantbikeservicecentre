{
 "cells": [
  {
   "cell_type": "code",
   "execution_count": 31,
   "id": "2131cbd9-cfdd-4f75-904e-c47ae6cf7324",
   "metadata": {},
   "outputs": [],
   "source": [
    "class BrothersCafe:\n",
    "    def __init__(rp):\n",
    "        print(\"\\t\\t\\t\\t BrothersCafe\")\n",
    "        print(\"\\t\\t\\t\\t Since-1980\")\n",
    "        print(\"\\t\\t\\t\\t www.brotherscafe@gmail.com\")\n",
    "        print(\"\\n\\n\\t\\t\\t\\tMenu\")\n",
    "        x=[\"Indian\",\"German\",\"Korean\",\"Vietnamese\"]\n",
    "        for k in x:\n",
    "            print(\"\\n\\n\",k)\n",
    "\n",
    "    def indian(rp):\n",
    "         x=[\"Misal pav\",\"Maaki Di Roti & Sarso da saag\",\"Dhokla\",\"Litti chowkha\",\"Idli Sambhar\"]\n",
    "         y=[80,180,220,300,190]\n",
    "         indian={\"indian food types:-\":x,\"price\":y}\n",
    "         import pandas as pd\n",
    "         df=pd.DataFrame(indian)\n",
    "         print(\"\\n\\n Indian foods \\n\\n\")\n",
    "         print(df)\n",
    "         d=[]\n",
    "         while x:\n",
    "             x=True\n",
    "             a=int(input(\"Enter the value position\"))\n",
    "             b=int(input(\"Enter the Quantity\"))\n",
    "             z=indian[\"price\"][a]\n",
    "             y=z*b\n",
    "             d.append(y)\n",
    "             x=input(\"you won to reorder(yes/no):\")\n",
    "             if(x==\"no\"):\n",
    "                 print(\"Thank you\")\n",
    "                 break\n",
    "         t=sum(d)\n",
    "         m=(sum(d)*0.05)\n",
    "         k=t+m\n",
    "         from colorama import Fore,Back,Style\n",
    "         print(Fore.BLACK+Back.GREEN+Style.BRIGHT+\"servicetax=5%\")\n",
    "         print(\"Total Amount:\",t,\"Rupees\")\n",
    "         print(\"Total Amount Including Service Tax:\",k,\"Rupees\")\n",
    "             \n",
    "             \n",
    "    \n",
    "\n",
    "    \n",
    "    \n",
    "\n",
    "    \n",
    "    "
   ]
  },
  {
   "cell_type": "code",
   "execution_count": 32,
   "id": "9e3c96fa-4497-48a3-a99d-52b74edb9f74",
   "metadata": {},
   "outputs": [
    {
     "name": "stdout",
     "output_type": "stream",
     "text": [
      "\t\t\t\t BrothersCafe\n",
      "\t\t\t\t Since-1980\n",
      "\t\t\t\t www.brotherscafe@gmail.com\n",
      "\n",
      "\n",
      "\t\t\t\tMenu\n",
      "\n",
      "\n",
      " Indian\n",
      "\n",
      "\n",
      " German\n",
      "\n",
      "\n",
      " Korean\n",
      "\n",
      "\n",
      " Vietnamese\n"
     ]
    }
   ],
   "source": [
    "obj=BrothersCafe()"
   ]
  },
  {
   "cell_type": "code",
   "execution_count": 33,
   "id": "44572c62-0f79-417b-9790-4d3da8ea9187",
   "metadata": {},
   "outputs": [
    {
     "name": "stdout",
     "output_type": "stream",
     "text": [
      "\n",
      "\n",
      " Indian foods \n",
      "\n",
      "\n",
      "             indian food types:-  price\n",
      "0                      Misal pav     80\n",
      "1  Maaki Di Roti & Sarso da saag    180\n",
      "2                         Dhokla    220\n",
      "3                  Litti chowkha    300\n",
      "4                   Idli Sambhar    190\n"
     ]
    },
    {
     "name": "stdin",
     "output_type": "stream",
     "text": [
      "Enter the value position 3\n",
      "Enter the Quantity 6\n",
      "you won to reorder(yes/no): yes\n",
      "Enter the value position 2\n",
      "Enter the Quantity 5\n",
      "you won to reorder(yes/no): no\n"
     ]
    },
    {
     "name": "stdout",
     "output_type": "stream",
     "text": [
      "Thank you\n",
      "\u001b[30m\u001b[42m\u001b[1mservicetax=5%\n",
      "Total Amount: 2900 Rupees\n",
      "Total Amount Including Service Tax: 3045.0 Rupees\n"
     ]
    }
   ],
   "source": [
    "obj.indian()"
   ]
  },
  {
   "cell_type": "code",
   "execution_count": null,
   "id": "f8d6dafe-eb7b-4c3e-979a-7928e744bcc1",
   "metadata": {},
   "outputs": [],
   "source": []
  }
 ],
 "metadata": {
  "kernelspec": {
   "display_name": "Python 3 (ipykernel)",
   "language": "python",
   "name": "python3"
  },
  "language_info": {
   "codemirror_mode": {
    "name": "ipython",
    "version": 3
   },
   "file_extension": ".py",
   "mimetype": "text/x-python",
   "name": "python",
   "nbconvert_exporter": "python",
   "pygments_lexer": "ipython3",
   "version": "3.12.4"
  }
 },
 "nbformat": 4,
 "nbformat_minor": 5
}
